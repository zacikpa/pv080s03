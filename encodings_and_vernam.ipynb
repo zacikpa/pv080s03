{
 "cells": [
  {
   "cell_type": "markdown",
   "id": "558b29d5",
   "metadata": {},
   "source": [
    "# Part 1: Encodings"
   ]
  },
  {
   "cell_type": "markdown",
   "id": "b4e53645",
   "metadata": {},
   "source": [
    "## Task 1\n",
    "The following cells provide an interactive demo. There are four\n",
    "bytes that you can update individually in order to see how the changes\n",
    "propagate in the different encodings.\n",
    "\n",
    "Try to find out a combination of bytes that results in a different value in\n",
    "UTF-8 and in ASCII."
   ]
  },
  {
   "cell_type": "code",
   "execution_count": 1,
   "id": "7cf862a8",
   "metadata": {},
   "outputs": [
    {
     "data": {
      "application/vnd.jupyter.widget-view+json": {
       "model_id": "9fbc11429841434db8777a8e7190fe04",
       "version_major": 2,
       "version_minor": 0
      },
      "text/plain": [
       "GridBox(children=(BoundedIntText(value=0, description='1st', layout=Layout(width='100%'), max=255), BoundedInt…"
      ]
     },
     "metadata": {},
     "output_type": "display_data"
    },
    {
     "data": {
      "application/vnd.jupyter.widget-view+json": {
       "model_id": "9f015135ebd94b2492ab183587701cf2",
       "version_major": 2,
       "version_minor": 0
      },
      "text/plain": [
       "Output()"
      ]
     },
     "metadata": {},
     "output_type": "display_data"
    }
   ],
   "source": [
    "import ipywidgets as widgets\n",
    "from IPython.display import display\n",
    "\n",
    "# some heavy lifting for this interactive demo is hidden through imports\n",
    "from encoding_utils import byte_ui, first, second, third, fourth\n",
    "\n",
    "\n",
    "def show_bytes(first, second, third, fourth):\n",
    "    as_binary = f\"{first:08b} {second:08b} {third:08b} {fourth:08b}\"\n",
    "    as_bytes = bytes([first, second, third, fourth])\n",
    "    as_utf8 = as_bytes.decode(\"utf-8\", errors=\"replace\")\n",
    "    as_ascii = as_bytes.decode(\"ascii\", errors=\"replace\")\n",
    "    as_hexa = f\"{first:02X} {second:02X} {third:02X} {fourth:02X}\"\n",
    "\n",
    "    print(f\"as binary: {as_binary}\")\n",
    "    print(f\"as   HEXA: {as_hexa}\")\n",
    "    print(f\"as  bytes: {as_bytes!r}\")\n",
    "    print(f'as  UTF-8: \"{as_utf8}\"')\n",
    "    print(f'as  ASCII: \"{as_ascii}\"')\n",
    "\n",
    "\n",
    "byte_output = widgets.interactive_output(\n",
    "    show_bytes, {\"first\": first, \"second\": second, \"third\": third, \"fourth\": fourth}\n",
    ")\n",
    "\n",
    "display(byte_ui, byte_output)"
   ]
  },
  {
   "cell_type": "markdown",
   "id": "6e865468",
   "metadata": {},
   "source": [
    "# Convert between various data formats"
   ]
  },
  {
   "cell_type": "markdown",
   "id": "70a2de06",
   "metadata": {},
   "source": [
    "In Python (3) strings of the 'str' type are considered strings of\n",
    "[Unicode](https://en.wikipedia.org/wiki/Unicode) characters. These characters\n",
    "represent individual Unicode code-points. These strings by themselves do not\n",
    "have an associated representation as a sequence of bytes. Thus if you want to\n",
    "get a sequence of bytes you need to choose an encoding which can transform the\n",
    "code-points to bytes, such as ASCII or UTF-8. For more on Python strings and\n",
    "Unicode, check [this](https://docs.python.org/3/howto/unicode.html) out.\n",
    "\n",
    "## Note about strings and bytes in Python\n",
    "\n",
    "Python tries to be helpful and so if it is supposed to display a byte value\n",
    "(in a 'bytes' object) that corresponds to a printable ASCII character (e.g.\n",
    "from the English alphabet) it displays **that character** instead of the\n",
    "actual byte value. Let us see this in action. If it is not a printable ASCII\n",
    "character, Python will display its raw value in hexadecimal with the `\\x`\n",
    "prefix (see\n",
    "[here](https://stackoverflow.com/questions/54358833/how-does-bytes-repr-representation-work)\n",
    "for details)."
   ]
  },
  {
   "cell_type": "code",
   "execution_count": 19,
   "id": "08dfcd14",
   "metadata": {},
   "outputs": [
    {
     "name": "stdout",
     "output_type": "stream",
     "text": [
      "Message is a 'str': True\n",
      "Message encoded as bytes to ASCII: b'A simple string message'\n"
     ]
    }
   ],
   "source": [
    "# Let us start with a string ASCII message\n",
    "msg = \"A simple string message\"\n",
    "\n",
    "# We can check this using the following assert\n",
    "print(f\"Message is a 'str': {isinstance(msg, str)}\")\n",
    "\n",
    "# In order to access the underlying bytes of the `msg` we can _encode_ it.\n",
    "# We can explicitly say we encode it to ASCII.\n",
    "print(f\"Message encoded as bytes to ASCII: {msg.encode('ascii')}\")"
   ]
  },
  {
   "cell_type": "code",
   "execution_count": 20,
   "id": "a91729d2",
   "metadata": {},
   "outputs": [
    {
     "name": "stdout",
     "output_type": "stream",
     "text": [
      "True\n",
      "True\n"
     ]
    }
   ],
   "source": [
    "# If you ran the previous cell you can see that the value of the printed `msg` is\n",
    "# b'A simple string message'\n",
    "# And while we can still read it, it is not _the same_ for Python\n",
    "print(b\"A simple string message\" != \"A simple string message\")\n",
    "\n",
    "# Because its type is now 'bytes'\n",
    "print(isinstance(\"A simple message\".encode(\"ascii\"), bytes))"
   ]
  },
  {
   "cell_type": "markdown",
   "id": "af3fc5ee",
   "metadata": {},
   "source": [
    "## Task 2\n",
    "Convert the following `binary_blob` of bytes represented as binary (using the `0b`\n",
    "prefix to be explicit) to an ASCII message. Each binary value represents a\n",
    "single ASCII character. That is do `binary -> string (through ASCII)`."
   ]
  },
  {
   "cell_type": "code",
   "execution_count": null,
   "id": "10d7873b",
   "metadata": {},
   "outputs": [],
   "source": [
    "# TODO: find out the message from this blob!\n",
    "binary_blob = \"\"\"\n",
    "0b1001001 0b100000 0b1100001 0b1101101 0b100000\n",
    "0b1110011 0b1110100 0b1100001 0b1110010 0b1110100\n",
    "0b1101001 0b1101110 0b1100111 0b100000 0b1110100\n",
    "0b1101111 0b100000 0b1100111 0b1100101 0b1110100\n",
    "0b100000 0b1110100 0b1101000 0b1100101 0b100000\n",
    "0b1101000 0b1100001 0b1101110 0b1100111 0b100000\n",
    "0b1101111 0b1100110 0b100000 0b1110110 0b1100001\n",
    "0b1110010 0b1101001 0b1101111 0b1110101 0b1110011\n",
    "0b100000 0b1100100 0b1100001 0b1110100 0b1100001\n",
    "0b100000 0b1100101 0b1101110 0b1100011 0b1101111\n",
    "0b1100100 0b1101001 0b1101110 0b1100111 0b1110011\n",
    "0b101110\n",
    "\"\"\""
   ]
  },
  {
   "cell_type": "code",
   "execution_count": null,
   "id": "7726c53d",
   "metadata": {},
   "outputs": [],
   "source": [
    "# Hint: what does `split` do? And what about `int(value, number_base)`?"
   ]
  },
  {
   "cell_type": "markdown",
   "id": "1cae6be3",
   "metadata": {},
   "source": [
    "## Task 3\n",
    "Each of the following integers represents a single character in ASCII\n",
    "encoding. Convert them back! Do `integers -> string (through ASCII)`."
   ]
  },
  {
   "cell_type": "code",
   "execution_count": null,
   "id": "af2791db",
   "metadata": {},
   "outputs": [],
   "source": [
    "integers_blob = \"\"\"\n",
    "73 116 32 105 115 32 116 104 101 32 116 104 105 114\n",
    "100 32 119 101 101 107 32 97 110 100 32 73 32 115\n",
    "116 105 108 108 32 104 97 118 101 32 122 101 114\n",
    "111 32 105 100 101 97 32 97 98 111 117 116 32\n",
    "99 114 121 112 116 111 103 114 97 112 104 121\n",
    "\"\"\""
   ]
  },
  {
   "cell_type": "markdown",
   "id": "f13699fb",
   "metadata": {},
   "source": [
    "## Task 4\n",
    "\n",
    "One of the tutors of PV080 got really confused with the encodings and made a mess.<br>\n",
    "He took a message and encoded it into ASCII.<br>\n",
    "He then looked at those bytes in hexadecimal. This reminded him of ASCII.<br>\n",
    "So he then turned those hexadecimal characters to ASCII, AGAIN!<br>\n",
    "Finally, he took those bytes and saw that there is another encoding called\n",
    "Base64. So he also used that one.<br> Ok, one more thing. He turned those\n",
    "bytes into an ASCII string.<br><br>\n",
    "\n",
    "Can you help the rest of the tutors to untangle this mess and find the\n",
    "original message? First have a look at the Base64 example below."
   ]
  },
  {
   "cell_type": "markdown",
   "id": "564629dc",
   "metadata": {},
   "source": [
    "### A Base64 example"
   ]
  },
  {
   "cell_type": "code",
   "execution_count": null,
   "id": "635df3e3",
   "metadata": {},
   "outputs": [],
   "source": [
    "# HINT: Do not worry about Base64. It is actually pretty simple.\n",
    "from base64 import b64decode, b64encode\n",
    "\n",
    "message = \"message\"\n",
    "# Encode the message into Base64 encoding\n",
    "# b64decode and b64encode operate on bytes\n",
    "b64_encoded_msg = b64encode(message.encode(\"ascii\"))\n",
    "\n",
    "# Decode the message back and then also into string\n",
    "original_message = b64decode(b64_encoded_msg).decode(\"ascii\")\n",
    "\n",
    "# Make sure we have gone full circle\n",
    "print(original_message == message)"
   ]
  },
  {
   "cell_type": "markdown",
   "id": "9a883371",
   "metadata": {},
   "source": [
    "### The mess"
   ]
  },
  {
   "cell_type": "code",
   "execution_count": 3,
   "id": "0b930bce",
   "metadata": {},
   "outputs": [
    {
     "ename": "NotImplementedError",
     "evalue": "This is a placeholder value, please, fill in something else instead to finish the Task",
     "output_type": "error",
     "traceback": [
      "\u001b[0;31m---------------------------------------------------------------------------\u001b[0m",
      "\u001b[0;31mNotImplementedError\u001b[0m                       Traceback (most recent call last)",
      "Input \u001b[0;32mIn [3]\u001b[0m, in \u001b[0;36m<module>\u001b[0;34m\u001b[0m\n\u001b[1;32m      1\u001b[0m \u001b[38;5;66;03m# TODO: Try to get to the original message\u001b[39;00m\n\u001b[1;32m      2\u001b[0m blob \u001b[38;5;241m=\u001b[39m \u001b[38;5;124m\"\u001b[39m\u001b[38;5;124mNTQ2ODY5NzMyMDZmNmUyMDY5NzMyMDY3NjU3NDc0Njk2ZTY3MjA2MTIwNjI2OTc0MjA2MzZmNmQ3MDZjNjk2MzYxNzQ2NTY0MmUyMDQ0NmYyMDZlNmY3NDIwNmY3NjY1NzI2NDZmMjA3NDY4NjUyMDY1NmU2MzZmNjQ2OTZlNjc3MzJlMmU=\u001b[39m\u001b[38;5;124m\"\u001b[39m\n\u001b[0;32m----> 3\u001b[0m bytes2 \u001b[38;5;241m=\u001b[39m \u001b[43m____\u001b[49m\u001b[43m(\u001b[49m\u001b[43m)\u001b[49m\n\u001b[1;32m      4\u001b[0m string2 \u001b[38;5;241m=\u001b[39m ____()\n\u001b[1;32m      5\u001b[0m bytes1 \u001b[38;5;241m=\u001b[39m ____()\n",
      "File \u001b[0;32m~/projects/fi/teaching/pv080/encoding-and-encryption/encoding_utils.py:46\u001b[0m, in \u001b[0;36mPlaceholderValue.__call__\u001b[0;34m(*args, **kwargs)\u001b[0m\n\u001b[1;32m     45\u001b[0m \u001b[38;5;28;01mdef\u001b[39;00m \u001b[38;5;21m__call__\u001b[39m(\u001b[38;5;241m*\u001b[39margs, \u001b[38;5;241m*\u001b[39m\u001b[38;5;241m*\u001b[39mkwargs):\n\u001b[0;32m---> 46\u001b[0m     \u001b[38;5;28;01mraise\u001b[39;00m \u001b[38;5;167;01mNotImplementedError\u001b[39;00m(\n\u001b[1;32m     47\u001b[0m         \u001b[38;5;124m\"\u001b[39m\u001b[38;5;124mThis is a placeholder value, please, fill in \u001b[39m\u001b[38;5;124m\"\u001b[39m\n\u001b[1;32m     48\u001b[0m         \u001b[38;5;124m\"\u001b[39m\u001b[38;5;124msomething else instead to finish the Task\u001b[39m\u001b[38;5;124m\"\u001b[39m\n\u001b[1;32m     49\u001b[0m     )\n",
      "\u001b[0;31mNotImplementedError\u001b[0m: This is a placeholder value, please, fill in something else instead to finish the Task"
     ]
    }
   ],
   "source": [
    "# TODO: Try to get to the original message\n",
    "blob = \"NTQ2ODY5NzMyMDZmNmUyMDY5NzMyMDY3NjU3NDc0Njk2ZTY3MjA2MTIwNjI2OTc0MjA2MzZmNmQ3MDZjNjk2MzYxNzQ2NTY0MmUyMDQ0NmYyMDZlNmY3NDIwNmY3NjY1NzI2NDZmMjA3NDY4NjUyMDY1NmU2MzZmNjQ2OTZlNjc3MzJlMmU=\"\n",
    "bytes2 = ____()\n",
    "string2 = ____()\n",
    "bytes1 = ____()\n",
    "string1 = ____()\n",
    "print(string1)"
   ]
  },
  {
   "cell_type": "markdown",
   "id": "a9d970c4",
   "metadata": {},
   "source": [
    "# Part 2: XOR and Vernam cipher"
   ]
  },
  {
   "cell_type": "code",
   "execution_count": null,
   "id": "6102b112",
   "metadata": {},
   "outputs": [],
   "source": [
    "# To XOR two integers in Python we can either use the `^` \"caret\" operator\n",
    "print((1 ^ 1) == 0)\n",
    "\n",
    "# Or to be more explicit we can use the `xor` operator\n",
    "from operator import xor\n",
    "\n",
    "print(xor(3, 2) == 1)"
   ]
  },
  {
   "cell_type": "code",
   "execution_count": null,
   "id": "64278c9f",
   "metadata": {},
   "outputs": [],
   "source": [
    "import secrets\n",
    "\n",
    "# generate two random integers\n",
    "first = secrets.randbelow(2 ** 16)\n",
    "second = secrets.randbelow(2 ** 16)\n",
    "\n",
    "# show the result of `first XOR second`\n",
    "print(f\" first:{ first:016b}\")\n",
    "print(f\"second:{second:016b}\")\n",
    "print(\"       ----------------\")\n",
    "xor_result = first ^ second\n",
    "print(f\"   xor:{xor_result:016b}\")"
   ]
  },
  {
   "cell_type": "markdown",
   "id": "1bca7476",
   "metadata": {},
   "source": [
    "## Task 5\n",
    "\n",
    "Create a message that you want to keep secret and encrypt it using Vernam cipher."
   ]
  },
  {
   "cell_type": "code",
   "execution_count": null,
   "id": "332825d6",
   "metadata": {},
   "outputs": [],
   "source": [
    "import secrets\n",
    "\n",
    "# TODO: write your own message\n",
    "msg = ____\n",
    "# TODO: generate a random key of the correct length\n",
    "# HINT: you don't have to hardcode the length\n",
    "key = secrets.token_bytes(____)\n",
    "\n",
    "# TODO: encrypt the message using Vernam cipher\n",
    "ciphertext = ____\n",
    "\n",
    "# TODO: try to decrypt it then as well\n",
    "plaintext = ____"
   ]
  },
  {
   "cell_type": "markdown",
   "id": "34af3789",
   "metadata": {},
   "source": [
    "# Task 6\n",
    "Decrypt the following message. It has been encrypted using Vernam cipher."
   ]
  },
  {
   "cell_type": "code",
   "execution_count": null,
   "id": "3dbc3582",
   "metadata": {},
   "outputs": [],
   "source": [
    "ciphertext = \"\"\"75 A0 E1 51 57 B6 A9 7B 24 AD 39 75 DA F7 D3 46 92 8A 15 5B 3B\n",
    "96 87 44 9B 38 D4 6C 16 D8 DB EC D4 62 0F 54 3E F6 12 3E 44 F8 C7 87 0A E0 D7 08\n",
    "5D C4 A7 87 CE D1 8B 53 55 50 30 00 3B 4F 34 F3 38 BC ED 29 38 D3 35 4A E5 FE 2E\n",
    "0D B3 1E C4 66 DF FE F6 BA 19 92 2E 94 D0 E5 D1 46 83 36 FA 7E E3 D3 76 6E AE 2E\n",
    "4A B0 6A 61 01 06 36 0A 61 70 66 51 3F 83 E8 0C 09 B5 05 27 B1 83 D8 D0 7E 95 34\n",
    "21 93 18 A0 B7 72 D0 E3 57 5A 4A 68 07 1D D8 F5 5D DF 17 1A AA 50 81 B0 B7 DE 53\n",
    "50 93 43 7E D0 EC 74 45 10 62 41 52 3D 4B 72 40 7D 07 6B C3 9A 71 24 A4 1E 0A 53\n",
    "F6 EE 63 4D 8D FB 67 B2 12 95 CE 0E 38 08 35 51 2D B7 48 1B 62 36 89 AB 92 01 46\n",
    "9C 2E FB 2F B3 5A 84 96 9F EB D0 60 83 33 A8 DE 11 B1 B5 A2 9E AC 30 A4 2A FD C5\n",
    "D0 06 08 32 80 BA 9B 61 73 CB 9E 0D F3 AF 30 DA 0C B7 EE E2 5C E9 7A E6 F0 11 B3\n",
    "21 C9 13 C3 D1 D8 2B 12 2E 46 D9 D0 FD 9A 83 12 93 DE 00 2A D2 D2 79 7B 71 C4 A2\n",
    "C1 00 F6 F5 45 AC 56 7A 44 F7 30 0F FF 8C 65 81 47 AF 2C AA DE 16 8B E6 68 5B 52\n",
    "25 80 52 C2 76 48 0A 0A 2F A4 D9 C3 92 E6 9D D6 70 F7 67 97 39 05 D6 99 3C D4 99\n",
    "83 24 6E AB 15 DB 10 E2 28 B1 3F 18 84 55 06 8B 3B 83 9C 17 56 E7 76 A0 F8 C7 35\n",
    "A6 68 82 3A 4E CB F6 AC 3F BD 39 2B AA 82 53 44 D7 AB 5A AD 35 7F 8F 0F 75 6B 51\n",
    "BC 38 48 7D A5 87 9C EA 40 97 00 76 49 A2 69 21 84 F5 38 14 52 82 24 1E 51 C2 1F\n",
    "7D 09 56 59 C7 61 91 0A A9 5A F0 E2 04 19 CE 0F FE AF 32 52 DD 5A AC D7 13 5E 49\n",
    "07 C0 32 CD 13 A7 C4 4E 3E E3 B8 0C 0E 20 42 C1 E1 75 7E B0 9F 02 4C FD 9B 5B 4A\n",
    "D9 98 B0 EC 54 BD E9 8B 40 63 4F 2E 14 CF 9E F7 4A E0 36 C3 A2 C1 BB 35 51 41 D1\n",
    "F8 8B 75 E0 27 CB D9 50 F3 F2 3E F7 1F 6F 81 F2 47 9B 0D F4 CB 8A 75 ED E2 CC 23\n",
    "72 A6 B9 B6 D3 19 9E 54 AC 34 FA 21 75 2A D3 B2 DB 45 0D 01 CF 32 05 5F 07 62 38\n",
    "4E C7 92 04 9A C4 F5 3A 5B 2F 17 5C 0E 2C 70 26 4A 27 E5 D5 B4 2B A1 5C 41 55 C9\n",
    "E9 A5 3A 86 D1 69 CE AA 1E 57 5C FE 5A 17 E7 E7 F0 A6 47 7B 69 19 E5 85 BC 89 C1\n",
    "C8 13 11 ED E8 3D E3 7F E3 34 B8 90 02 9C B5 E8 38 7E AC 0A 08 BE A6 E6 22 C3 2A\n",
    "99 DF 32 FB AE 3B C8 BE 79 7F 67 CE 17 A7 89 90 EC A7 DB B9 BF 7D 28 64 9B 7D 0C\n",
    "D8 2D 71 65 E1 6C 92 BE 0B ED 6A 22 C5 A5 E0 FA 0C 50 48 47 34 A4 B4 95 8E 6C BB\n",
    "99 AD 40 38 B8 A0 68 23 2A 08 04 DC 1D 16 4A CB 4A F9 A0 36 A9 A6 44 01 6B E0 80\n",
    "97 38 8F F2 D2 44 E8 A9 63 F5 66 9D FA F8 D8 F1 78 92 2B AD E1 68 63 97 E8 8E 34\n",
    "39 B4 B4 E1 C2 76 86 6A 8C BD D5 E0 4D 31 04 8B 34 CC 5E E1 18 E6 AA C8 12 17 2D\n",
    "1B E5 C8 53 49 81 AE 9E 10 59 8D DB F8 23 41 59 87 34 1C DE 5A 89 1C B3 CE 85 08\n",
    "1B 4A 11 53 D0 3F C6 5D 56 84 8B D6 32 82 10 B9 50 A6 2E 93 E9 24 DA 28 5E 1C A7\n",
    "0D 9F 7F 8C 7D 9D 70 C9 E2 AE 45 12 81 96 AE 2C 09 DE 14 EF A5 EE 02 B4 AE CD FC\n",
    "B0 46 C4 1E 5F 1F 2B C0 58 AE F2 9C 87 04 AB 34 56 46 B7 C2 E9 A8 37 FE 8C BB 25\n",
    "74 73 D2 2A B2 48 F6 13 53 B8 0C 9F CF 07 4B 04 43 8B 06 3E 1D 63 F0 C0 AD A0 B3\n",
    "12 EF 85 59 69 18 D7 D2 D9 20 27 B7 04 EA 9C 7F 0F B3 7B 6C 51 A8 2A CE F1 AC F3\n",
    "0C F8 23 FD 3A E7 5F 89 28 CB 13 24 02 B7 5A ED F3 10 46 89 6B 0A C4 03 89 15 86\n",
    "65 9F F7 88 37 A9 C8 5E 81 DB 85 5E 4E A3 7E 01 4E 3F 0B 72 F1 88 BB 36 41 50 69\n",
    "AA 6B 5D 64 1E 0C 96 AD 99 DF 09 67 59 11 11 F1 36 2D 95 78 D7 06 A6 B4 C5 A4 F0\n",
    "E0 7E 48 BA DF BD 7E C5 8E 15 2F 90 BD B3 9D 74 42 3D 1B 50 94 B3 2F D7 5E 5C D1\n",
    "F3 0C 21 0D 92 24 0F 57 15 85 7B 04 C7 7E 73 33 1A 16 88 D8 7D 7C 4F FE 95 D0 3D\n",
    "24 19 6A 76 BD AC 89 1E 73 E1 16 A2 9C 84 97 83 15 30 F1 01 0A 73 8E 5B 08 31 37\n",
    "8B 93 CA 00 85 F9 C3 63 E6 FA A5 D7 14 CB C7 CD 98 47 95 53 FE F2 5C E9 78 A7 94\n",
    "13 8F 2F C7 54 CE 9B 17 0F B1 9E B3 82 35 D8 10 74 6B C7 DB 6E 9F 95 AC 7E 82 6E\n",
    "FE CB A3 54 1B A9 00 87 AF 2F D9 AA 8E DE 9C 48 07 60 F6 EA 16 6D 74 66 F3 41 0F\n",
    "E8 22 A9 34 F7 BE 05 2A D9 32 6E 12 82 44 EF 2C 7B BB 64 D3 98 3A 33 00 07 F5 33\n",
    "D4 2E B8 37 7D D6 C3 1E 46 38 08 D7 E5 27 DC 3D 8C 5A FD 97 CD DC 06 07 14 96 1F\n",
    "17 8F E2 9F 8D C3 47 ED 0B D9 B6 27 C0 CD 9B B7 72 A7 CF C7 3C 40 D8 37 58 AC A1\n",
    "BB 64 28 43 B3 18 F7 20 27 19 5A 2F 03 95 A2 2C CB 63 9D 5F D4 DE CC DC DD 30 EF\n",
    "16 30 51 39 90 E4 E1 50 3C 84 A4 AB 28 6C 0E D3 49 8F CB 85 54 FF 5A E7 57 F5 B8\n",
    "97 5B 8C 91 8B 57 FF 2B 86 A9 8A AF E2 A5 6D 1B 33 51 BE A2 BC 77 42 94 D6 E7 88\n",
    "E5 09 9D 50 16 76 43 7C E9 02 65 37 5B 6B 61 84 E9 D6 05 3C EC 19 0A 63 66 E1 12\n",
    "DA 19 48 B0 3B E6 FD C3 7A A7 C7 04 2B 7B 8D 2C 07 FF 65 93 4F 01 FB 50 23 A4 0D\n",
    "1B 4B 13 8B EB 69 01 81 70 E8 39 00 D8 DC 3E D2 72 88 6A 56 33 71 88 00 1E D0 EB\n",
    "FE E4 C5 C4 8D 03 78 F8 CC 89 67 0D C7 97 C4 C0 A4 50 8E 93 F1 96 57 31 CF 21 95\n",
    "44 F7\"\"\"\n",
    "\n",
    "key = \"\"\"7F EC 8E 23 32 DB 89 12 54 DE 4C 18 FA 93 BC 2A FD F8 35 28 52 E2 A7 25\n",
    "F6 5D A0 40 36 BB B4 82 A7 07 6C 20 5B 82 67 4C 64 99 A3 EE 7A 89 A4 6B 34 AA C0\n",
    "A7 AB BD E2 27 7B 5A 66 69 4D 2E 59 86 4B 9C 80 4C 4C A6 46 6A 81 91 42 62 C1 32\n",
    "E4 0B B0 92 93 C9 6D FB 4B B4 B9 88 A1 23 F1 52 93 1B 97 F3 03 02 DA 5C 23 D3 03\n",
    "04 72 26 5F 6E 4D 50 10 30 4D EA 9D 7F 03 DC 6B 07 D4 F1 B9 A4 50 B5 79 40 E6 6A\n",
    "C9 C4 52 B4 8A 34 2E 3F 05 27 70 B9 86 2E BE 37 6F DE 70 E0 C5 D0 AB 36 70 F5 31\n",
    "17 BE 8B 1D 29 7C 03 61 34 5C 3E 11 29 1F 72 18 ED 90 27 41 D7 6A 63 31 83 82 16\n",
    "20 AD 9A 04 D1 67 F8 BD 6F 56 28 5B 24 41 DB 29 3B 17 44 E7 CA BE 21 27 BC 4A 92\n",
    "48 DD 33 F7 E5 F6 86 F0 14 EC 41 DC B1 63 91 D3 CB F0 C5 52 D1 59 DD A4 A4 28 02\n",
    "7B EE CE FE 06 16 B9 BE 61 9C CD 5F A8 78 DE 9D C2 2A 8C 09 92 99 73 C6 4D BC 7E\n",
    "E3 A4 B4 47 73 43 25 B6 A2 8D FF F1 3C B3 93 61 4F B1 B7 17 1A 02 E4 C1 AE 6E 92\n",
    "9C 28 C9 38 0E 31 9A 3A 7C 8A FF 06 E8 37 C6 58 8A BA 77 FB 8F 0A 2E 21 0B A0 1C\n",
    "A3 1B 68 63 64 0F D4 AC AF E4 8F F3 B7 02 D7 02 E5 56 76 F8 B9 71 B5 FC E0 41 00\n",
    "CA 66 FB 73 8D 46 C2 5A 7B F0 30 72 FE 49 89 F9 64 22 C7 12 CF 94 A8 47 8A 48 EC\n",
    "55 20 EB 9B C3 53 D8 4A 5F C3 E7 73 2A A2 C7 36 CC 15 0F E3 6E 16 0E 23 DD 4C 68\n",
    "0E C0 E3 B2 CA 01 FB 69 07 3C C3 04 01 F4 9D 59 66 37 F6 56 7F 5B AA 7A 13 6D 24\n",
    "3C B5 08 E5 2A C4 35 9C 87 77 6D A7 6A D0 8F 62 20 B2 33 C2 F7 7A 3A 69 73 A9 5C\n",
    "AE 7A C3 B1 20 4A C3 D5 6D 69 4E 23 EF C1 25 0C DF F6 6C 6C 9C EE 38 3E B6 EA BA\n",
    "81 35 C5 80 E6 35 10 6F 42 7B BD FB 9A 66 C0 5F A7 82 A4 D7 50 38 27 B4 96 EF 55\n",
    "8C 42 A4 F9 32 9F 93 50 93 76 1B A1 87 33 B5 2D A2 AE F9 01 84 80 B9 4F 07 CB 99\n",
    "D3 B4 7C EA 5E DF 51 97 01 05 45 A1 C6 AF 2C 79 6E BD 12 60 2D 66 16 18 23 A6 E6\n",
    "70 F3 B7 D5 4C 34 43 62 28 7E 4D 04 08 6A 71 80 A6 C0 42 C3 29 2D 20 A4 C9 C3 5F\n",
    "F4 BC 0C A0 DE 6B 3A 56 9F 36 7E 96 92 91 CB 67 1E 05 70 91 A9 9C EC B5 E8 7F 64\n",
    "8E 9C 48 90 5F 8F 5D DF E5 6E FD 9B C8 6E 17 DA 6B 65 CB D5 C6 43 E3 46 F8 BC 47\n",
    "88 8E 5D A9 DD 10 13 0E BD 7E D4 83 FF 88 CE B4 99 DB 14 4F 0A F2 0E 7F B1 40 51\n",
    "11 84 01 E2 D1 79 CD 03 46 E5 C4 83 DA 78 25 3A 37 5D D7 9A B5 C7 02 9B F1 CC 23\n",
    "18 D0 C1 0A 4A 5E 69 77 AF 78 36 3A A7 2B 8D C5 57 89 C2 2D 62 1F 95 ED E4 4C A1\n",
    "F8 D8 17 8D CD 43 9C 0B ED 9F 8A BC 98 1D E6 0B CC 8F 1C 06 B7 9E E7 40 58 D1 94\n",
    "8D A3 15 F3 19 AC C9 B0 8D 3D 5E 76 AB 44 A3 2D 94 7D 94 CF E6 32 47 48 77 89 AD\n",
    "3D 3D E4 DD EF 65 3C 87 AF 8A 4A 32 2D EE 45 69 BB 7A E0 72 C7 AB F7 6C 6E 27 31\n",
    "3E B9 1F B0 38 3A A4 EE BA 57 EB 76 DC 3E C2 00 B3 B9 4C BB 5B 3B 70 CB 78 EC 5F\n",
    "FC 12 EF 04 A8 C2 DA 30 60 F1 FF DD 26 68 AA 34 82 C4 9A 76 DD DD ED 9A D1 25 AD\n",
    "72 36 6C 42 B3 76 8E B6 F3 E9 61 C8 14 27 33 DE B1 C9 C9 59 8A E9 9B 44 17 53 B3\n",
    "44 C6 2D D6 65 32 CA 65 EA BC 27 2D 65 20 E2 6A 57 6E 0A 83 EE A7 EE C6 7E 83 E4\n",
    "34 49 75 B6 BE BC 53 52 D6 60 8B BC 0C 6A DE 5B 09 25 88 59 AB 9C 8C 87 65 96 40\n",
    "94 5E 92 31 FD 08 B8 7C 40 63 DB 3F 9E DD 30 0B E8 1E 78 AD 70 A9 74 E5 45 EC 82\n",
    "FB 54 C0 B8 37 F5 D1 EA 2C 2D CA 50 21 0D 4A 79 13 93 E1 CF 43 33 70 1A C5 07 31\n",
    "0D 7D 65 E2 D8 FD B6 67 47 2D 64 63 81 5F 5E B5 1D A5 69 D5 98 E5 D2 99 94 1F 2D\n",
    "9A B3 DC 11 B7 EB 70 5B B0 D3 C6 F1 18 23 37 6D 35 FA D6 41 B6 2A 35 A2 D3 69 55\n",
    "23 B2 61 7B 3E 74 E8 5B 61 B2 17 00 5E 75 72 A8 AC 18 10 23 8B E6 F0 58 43 7C 1E\n",
    "56 D4 DC FA 6B 1E C1 75 CD F2 F7 F2 F2 60 51 85 21 7A 06 E2 2D 61 5F 56 F9 BD C0\n",
    "50 F7 98 A6 10 83 94 D1 F7 70 A2 A4 B9 ED 2A B5 27 97 9C 3F 80 1C D2 FA 67 AF 46\n",
    "B7 27 BB F6 37 66 D5 BE DF F7 56 AC 65 07 45 E7 98 02 FE E6 DF 5E E3 1E 8A AE CD\n",
    "20 3B DD 61 E4 C6 5B B0 A0 FD B1 FF 21 68 13 87 9F 36 0C 10 46 9F 28 7B 87 50 C8\n",
    "14 83 D1 77 5B AC 57 00 66 A2 34 8A 5E 5B D8 0B BD ED 58 5A 61 27 9B 5C A7 5A CA\n",
    "56 51 F6 B3 7B 34 18 61 B9 86 42 AC 49 E3 29 DD FF A4 B1 63 69 75 F3 70 64 A1 E8\n",
    "D1 F8 AF 2B 8C 66 F9 C5 42 A4 ED EA C2 13 CA EF AA 5D 34 AC 5E 2B 80 81 CD 05 5A\n",
    "2A C6 6B D7 53 46 69 33 4A 6D B5 D4 45 BF 02 F8 73 F4 B8 A9 A9 BA 59 8E 62 10 3B\n",
    "4C E3 90 8E 7E 36 CA D1 C7 44 0D 2E BF 20 E8 BE E9 35 DF 3E 92 3E D9 98 E1 32 FA\n",
    "F4 F9 25 9E 0B F0 C0 FE CE 87 85 0E 74 5D 36 CB C7 9C 16 36 B8 F6 83 E1 82 67 F4\n",
    "23 65 1F 2E 5C 87 67 06 17 2F 04 13 F0 86 A4 2B 36 A1 78 6F 00 03 8F 73 A9 39 3C\n",
    "D9 55 85 94 A7 0F C9 B3 24 4E 1D EB 45 64 96 11 E6 3D 21 94 22 4D C5 7F 7E 65 33\n",
    "D8 8E 0D 21 E8 11 8B 4C 6C B1 AF 1E B4 17 E4 03 25 39 1D E1 62 7B A2 84 D2 C4 B0\n",
    "B0 AD 70 0D 8B AF E0 17 64 B3 B7 A0 B5 CD 70 E7 F2 92 E3 3B 58 BC 01 F4 30 D9\"\"\""
   ]
  }
 ],
 "metadata": {
  "kernelspec": {
   "display_name": "env",
   "language": "python",
   "name": "env"
  },
  "language_info": {
   "codemirror_mode": {
    "name": "ipython",
    "version": 3
   },
   "file_extension": ".py",
   "mimetype": "text/x-python",
   "name": "python",
   "nbconvert_exporter": "python",
   "pygments_lexer": "ipython3",
   "version": "3.10.2"
  }
 },
 "nbformat": 4,
 "nbformat_minor": 5
}
