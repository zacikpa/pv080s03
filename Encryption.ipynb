{
 "cells": [
  {
   "cell_type": "markdown",
   "id": "419c3986",
   "metadata": {
    "lines_to_next_cell": 2
   },
   "source": [
    "# How to actually encrypt/decrypt something?\n",
    "Let's say we have a message and want to encrypt using Advance Encryption Standard (AES)\n",
    "What do we need to do? We need the implementation of AES, which is, thankfully, already\n",
    "provided in cryptographic libraries in the programmin languages etc.\n",
    "In Python we can use [`cryptography`](https://cryptography.io/en/latest/) library.\n",
    "\n",
    "Before we start encrypting we will discuss few details."
   ]
  },
  {
   "cell_type": "code",
   "execution_count": null,
   "id": "1e665521",
   "metadata": {},
   "outputs": [],
   "source": [
    "# To generate keys securely we can use Python's built-in module `secrets`\n",
    "import secrets\n",
    "\n",
    "# generate a 128-bit key\n",
    "key = secrets.token_bytes(16)\n",
    "print(f\"key: {key.hex()}\")"
   ]
  },
  {
   "cell_type": "code",
   "execution_count": null,
   "id": "357b0478",
   "metadata": {},
   "outputs": [],
   "source": [
    "# Some encryption modes require padding of the message before it is encrypted."
   ]
  },
  {
   "cell_type": "code",
   "execution_count": null,
   "id": "6d31b039",
   "metadata": {
    "lines_to_next_cell": 2
   },
   "outputs": [],
   "source": [
    "# FIXME padding?\n",
    "import secrets\n",
    "from cryptography.hazmat.primitives.ciphers import Cipher, algorithms, modes\n",
    "\n",
    "# in order to actually encrypt something we need several things\n",
    "\n",
    "# the actual message as `bytes`, since most operation will\n",
    "# happen on `bytes`\n",
    "message = b\"This message will be encrypted..\"\n",
    "# the key\n",
    "key = secrets.token_bytes(32)\n",
    "# often the initialization vector for the chosen mode\n",
    "iv = secrets.token_bytes(16)\n",
    "mode = modes.CBC(iv)\n",
    "\n",
    "# now we can build the cipher object and corresponding\n",
    "# encryptor/decryptor objects\n",
    "cipher = Cipher(algorithms.AES(key=key), mode=mode)\n",
    "encryptor = cipher.encryptor()\n",
    "\n",
    "# often the cryptographic algorithms have two phases:\n",
    "# 1) _update_, where we feed the data we have into it\n",
    "# 2) _finalize_, where we tell the algorithm we want to finish\n",
    "# and receive the actual result\n",
    "ciphertext = encryptor.update(message) + encryptor.finalize()\n",
    "\n",
    "# now we can decrypt the message and check that it equals the original one\n",
    "decryptor = cipher.decryptor()\n",
    "plaintext = decryptor.update(ciphertext) + decryptor.finalize()\n",
    "\n",
    "assert message == plaintext\n",
    "\n",
    "print(f\"   message: {message!r}\")\n",
    "print(f\"ciphertext: {ciphertext!r}\")\n",
    "print(f\" plaintext: {plaintext!r}\")"
   ]
  },
  {
   "cell_type": "markdown",
   "id": "f3f486fc",
   "metadata": {},
   "source": [
    "# Task\n",
    "We have encrypted a message for you using AES-CTR with 32B key. The `nonce` is the first 16B of the ciphertext.\n",
    "```\n",
    "key: 74cb437bab249d29a81c90cd293c0239a020c2784b289fc381669cc80fa0d307\n",
    "ciphertext: 8ef291ed58710767d154beaf19a00c353c41f53a6fb5baaad97827e6f0547e6e8fb93b886eabfae9724ca47e11fd1801\n",
    "```"
   ]
  },
  {
   "cell_type": "code",
   "execution_count": null,
   "id": "9fb09529",
   "metadata": {},
   "outputs": [],
   "source": [
    "# TODO: parse the values into bytes\n",
    "# key = ____\n",
    "# nonce = ____\n",
    "# ciphertext = ____\n",
    "# TODO: decrypt the message\n",
    "# plaintext\n",
    "\n",
    "\n",
    "# FIXME hide the solution:\n",
    "key = bytes.fromhex(\"74cb437bab249d29a81c90cd293c0239a020c2784b289fc381669cc80fa0d307\")\n",
    "nonce = bytes.fromhex(\n",
    "    \"8ef291ed58710767d154beaf19a00c353c41f53a6fb5baaad97827e6f0547e6e8fb93b886eabfae9724ca47e11fd1801\"\n",
    ")[:16]\n",
    "ciphertext = bytes.fromhex(\n",
    "    \"8ef291ed58710767d154beaf19a00c353c41f53a6fb5baaad97827e6f0547e6e8fb93b886eabfae9724ca47e11fd1801\"\n",
    ")[16:]\n",
    "cipher = Cipher(algorithm=algorithms.AES(key), mode=modes.CTR(nonce))\n",
    "decryptor = cipher.decryptor()\n",
    "\n",
    "decryptor.update(ciphertext) + decryptor.finalize()"
   ]
  },
  {
   "cell_type": "markdown",
   "id": "4af2a776",
   "metadata": {},
   "source": [
    "# Task\n",
    "Testing software implementation is **a necessary practice**. Same applies to testing the implementation of encryption functions like AES. You will now test the correctness of AES implementation.\n",
    "\n",
    "There are several places, where you can search for test vectors (e.g. [Recommendation for Block\n",
    "2001 Edition Cipher Modes of Operation](https://nvlpubs.nist.gov/nistpubs/Legacy/SP/nistspecialpublication800-38a.pdf))"
   ]
  },
  {
   "cell_type": "markdown",
   "id": "0644a930",
   "metadata": {},
   "source": [
    "Here we have copied out some of the test vectors for encryption and decryption.\n",
    "```\n",
    "F.2 CBC Example Vectors\n",
    "F.2.1 CBC-AES128.Encrypt\n",
    "\n",
    "Key 2b7e151628aed2a6abf7158809cf4f3c\n",
    "IV 000102030405060708090a0b0c0d0e0f\n",
    "\n",
    "Block #1\n",
    "Plaintext 6bc1bee22e409f96e93d7e117393172a\n",
    "Ciphertext 7649abac8119b246cee98e9b12e9197d\n",
    "\n",
    "Block #2\n",
    "Plaintext ae2d8a571e03ac9c9eb76fac45af8e51\n",
    "Ciphertext 5086cb9b507219ee95db113a917678b2\n",
    "\n",
    "F.2.4 CBC-AES192.Decrypt\n",
    "\n",
    "Key 8e73b0f7da0e6452c810f32b809079e562f8ead2522c6b7b\n",
    "IV 000102030405060708090a0b0c0d0e0f\n",
    "\n",
    "Block #1\n",
    "Ciphertext 4f021db243bc633d7178183a9fa071e8\n",
    "Plaintext 6bc1bee22e409f96e93d7e117393172a\n",
    "\n",
    "Block #2\n",
    "Ciphertext b4d9ada9ad7dedf4e5e738763f69145a\n",
    "Plaintext ae2d8a571e03ac9c9eb76fac45af8e51\n",
    "```"
   ]
  },
  {
   "cell_type": "code",
   "execution_count": null,
   "id": "17bff1a2",
   "metadata": {
    "lines_to_next_cell": 2
   },
   "outputs": [],
   "source": [
    "# TODO: finish the following code in order to test the AES-CBC implementation\n",
    "# in Python's `cryptography`. You don't have to go through all four test vectors.\n",
    "\n",
    "# TODO: Encryption\n",
    "key = bytes.fromhex(____)\n",
    "iv = ____\n",
    "\n",
    "# Block #1\n",
    "plaintext = ____\n",
    "expected_ciphertext = ____\n",
    "\n",
    "ciphertext = ____\n",
    "print(ciphertext == expected_ciphertext)\n",
    "\n",
    "# Block #2\n",
    "\n",
    "# TODO: Decryption\n",
    "# Block #1\n",
    "# Block #2"
   ]
  },
  {
   "cell_type": "markdown",
   "id": "6b816aa4",
   "metadata": {},
   "source": [
    "## Why not to use ECB mode\n",
    "\n",
    "You've probably heard that ECB mode is not secure. Go through the following example and try it out! There is a bit more code to make it interactive. See the comments for clarification."
   ]
  },
  {
   "cell_type": "code",
   "execution_count": null,
   "id": "7c86b6df",
   "metadata": {},
   "outputs": [],
   "source": [
    "from PIL import Image\n",
    "import io\n",
    "from IPython.display import clear_output, display\n",
    "import secrets\n",
    "\n",
    "# First we download a picture of a penguin\n",
    "response = requests.get(\"https://upload.wikimedia.org/wikipedia/commons/5/56/Tux.jpg\")\n",
    "# and open it as an image\n",
    "img = Image.open(io.BytesIO(response.content))\n",
    "\n",
    "# create `Cipher` object using a random key and ECB mode\n",
    "cipher = ____\n",
    "encryptor = ____\n",
    "\n",
    "img_bytes = img.tobytes()\n",
    "# encrypt img_bytes\n",
    "encrypted_img_data = ____\n",
    "# create a new image using the encrypted_img_data\n",
    "enc_img = Image.frombytes(data=encrypted_img_data, size=(196, 216), mode=\"RGB\")\n",
    "\n",
    "# display both\n",
    "display(img)\n",
    "display(enc_img)"
   ]
  },
  {
   "cell_type": "code",
   "execution_count": null,
   "id": "108eed1b",
   "metadata": {},
   "outputs": [],
   "source": [
    "def send_msg(sender_uco: str, receiver_uco: str, msg: bytes):\n",
    "    # TA TODO POST to pv080.fi.muni.cz/s03\n",
    "    reqeusts.post()\n",
    "    pass\n",
    "\n",
    "\n",
    "def recv_msg(sender_uco: str, receiver_uco: str) -> bytes:\n",
    "    # TA TODO get from pv080.fi.muni.cz/s03\n",
    "    requests.get()\n",
    "    pass\n",
    "\n",
    "\n",
    "def generate_key_from_phrase(phrase: str) -> bytes:\n",
    "    # TA TODO deterministic even if unsecure way of generating a key\n",
    "    # While it is dangerous to teach them how NOT TO DO it, we will\n",
    "    # talk about keys, PBKD2 etc. later\n",
    "    # it\n",
    "    pass\n",
    "\n",
    "\n",
    "# TODO:\n",
    "# 1] send an encrypted message to your classmate\n",
    "# 2] recv and decrypted a message from your classmate\n",
    "# Share your keys via a different channel."
   ]
  }
 ],
 "metadata": {
  "jupytext": {
   "cell_metadata_filter": "-all",
   "main_language": "python",
   "notebook_metadata_filter": "-all"
  }
 },
 "nbformat": 4,
 "nbformat_minor": 5
}
