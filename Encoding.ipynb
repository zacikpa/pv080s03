{
 "cells": [
  {
   "cell_type": "markdown",
   "id": "b5f7d38d",
   "metadata": {},
   "source": [
    "# Data representation and encodings"
   ]
  },
  {
   "cell_type": "markdown",
   "id": "4dd129d7",
   "metadata": {},
   "source": [
    "## Task 1\n",
    "Get familiar with the various encodings."
   ]
  },
  {
   "cell_type": "code",
   "execution_count": null,
   "id": "f7d3cd8b",
   "metadata": {},
   "outputs": [],
   "source": [
    "import ipywidgets as widgets\n",
    "\n",
    "# some heavy lifting for this interactive demo is hidden through imports\n",
    "from encoding_utils import byte_ui, first, second, third, fourth\n",
    "\n",
    "\n",
    "def show_bytes(first, second, third, fourth):\n",
    "    as_binary = f\"{first:08b} {second:08b} {third:08b} {fourth:08b}\"\n",
    "    # print((first, second, third, fourth))\n",
    "    as_bytes = bytes([first, second, third, fourth])\n",
    "    as_utf8 = as_bytes.decode(\"utf-8\", errors=\"replace\")\n",
    "    as_ascii = as_bytes.decode(\"ascii\", errors=\"replace\")\n",
    "    as_hexa = f\"{first:02X} {second:02X} {third:02X} {fourth:02X}\"\n",
    "    print(f\"as binary: {as_binary}\")\n",
    "    print(f\"as   HEXA: {as_hexa}\")\n",
    "    print(f\"as  bytes: {as_bytes}\")\n",
    "    print(f'as  UTF-8: \"{as_utf8}\"')\n",
    "    print(f'as  ASCII: \"{as_ascii}\"')\n",
    "\n",
    "\n",
    "byte_output = widgets.interactive_output(\n",
    "    show_bytes, {\"first\": first, \"second\": second, \"third\": third, \"fourth\": fourth}\n",
    ")\n",
    "\n",
    "display(byte_ui, byte_output)"
   ]
  },
  {
   "cell_type": "markdown",
   "id": "b453b758",
   "metadata": {},
   "source": [
    "# Convert between various data formats"
   ]
  },
  {
   "cell_type": "markdown",
   "id": "f9cd153e",
   "metadata": {},
   "source": [
    "In Python (3) strings of the 'str' type are considered strings of [Unicode](https://en.wikipedia.org/wiki/Unicode) characters. These characters represent individual Unicode code-points. These strings by themselves do not have an associated representation as a sequence of bytes. Thus if you want to get a sequence of bytes you need to choose an encoding which can transform the code-points to bytes, such as ASCII or UTF-8. For more on Python strings and Unicode, check [this](https://docs.python.org/3/howto/unicode.html) out.\n",
    "\n",
    "## Note about strings and bytes in Python\n",
    "\n",
    "Python tries to be helpful and so if it is supposed to display a byte value (in a 'bytes' object) that corresponds to a printable ASCII character (e.g. from the English alphabet) it displays **that character** instead of the actual byte value. Let us see this in action. If it is not a printable ASCII character, Python will display its raw value in hexadecimal with the `\\x` prefix (see [here](https://stackoverflow.com/questions/54358833/how-does-bytes-repr-representation-work) for details)."
   ]
  },
  {
   "cell_type": "code",
   "execution_count": null,
   "id": "d80f91da",
   "metadata": {},
   "outputs": [],
   "source": [
    "# Let us start with a string ASCII message\n",
    "msg = \"A simple string message\"\n",
    "\n",
    "# We can check this using the following assert\n",
    "print(\"Message is a 'str':\", isinstance(msg, str))\n",
    "\n",
    "# In order to access the underlying bytes of the `msg` we can _encode_ it.\n",
    "# We can explicitly say we encode it to ASCII.\n",
    "print(\"Message encoded as bytes to ASCII:\", msg.encode(\"ascii\"))"
   ]
  },
  {
   "cell_type": "code",
   "execution_count": null,
   "id": "8ab103db",
   "metadata": {},
   "outputs": [],
   "source": [
    "# If you ran the previous cell you can see that the value of the printed `msg` is\n",
    "# b'A simple string message'\n",
    "# And while we can still read it, it is not _the same_ for Python\n",
    "print(b\"A simple string message\" != \"A simple string message\")\n",
    "\n",
    "# Because its type is now 'bytes'\n",
    "print(isinstance(\"A simple message\".encode(\"ascii\"), bytes))"
   ]
  },
  {
   "cell_type": "markdown",
   "id": "f443d3a6",
   "metadata": {},
   "source": [
    "## Task 1\n",
    "Convert the following data blob of bytes represented as binary (using the `0b` prefix to be explicit) to an ASCII message. Each binary value represents a single ASCII character. That is do `binary -> string (through ASCII)`."
   ]
  },
  {
   "cell_type": "code",
   "execution_count": null,
   "id": "a99bcb9d",
   "metadata": {},
   "outputs": [],
   "source": [
    "# TODO: find out the message from this blob!\n",
    "binary_blob = \"\"\"\n",
    "0b1001001 0b100000 0b1100001 0b1101101 0b100000\n",
    "0b1110011 0b1110100 0b1100001 0b1110010 0b1110100\n",
    "0b1101001 0b1101110 0b1100111 0b100000 0b1110100\n",
    "0b1101111 0b100000 0b1100111 0b1100101 0b1110100\n",
    "0b100000 0b1110100 0b1101000 0b1100101 0b100000\n",
    "0b1101000 0b1100001 0b1101110 0b1100111 0b100000\n",
    "0b1101111 0b1100110 0b100000 0b1110110 0b1100001\n",
    "0b1110010 0b1101001 0b1101111 0b1110101 0b1110011\n",
    "0b100000 0b1100100 0b1100001 0b1110100 0b1100001\n",
    "0b100000 0b1100101 0b1101110 0b1100011 0b1101111\n",
    "0b1100100 0b1101001 0b1101110 0b1100111 0b1110011\n",
    "0b101110\n",
    "\"\"\""
   ]
  },
  {
   "cell_type": "code",
   "execution_count": null,
   "id": "bf512123",
   "metadata": {},
   "outputs": [],
   "source": [
    "# Hint: what does `split` do? And what about `int(value, number_base)`?"
   ]
  },
  {
   "cell_type": "code",
   "execution_count": null,
   "id": "8b266f98",
   "metadata": {},
   "outputs": [],
   "source": [
    "# FIXME REMOVE SOLUTION, DON'T LOOK\n",
    "individual_binary = binary_blob.strip().split()\n",
    "byte_values = bytes([int(b, 2) for b in individual_binary])\n",
    "byte_values.decode(\"ascii\")"
   ]
  },
  {
   "cell_type": "code",
   "execution_count": null,
   "id": "a13bbed7",
   "metadata": {},
   "outputs": [],
   "source": [
    "# FIXME REMOVE REVERSED SOLUTION, DON'T LOOK\n",
    "msg = \"I am starting to get the hang of various data encodings.\"\n",
    "as_bytes = msg.encode(\"ascii\")\n",
    "as_binary = \" \".join([bin(b) for b in as_bytes])\n",
    "print(as_binary)"
   ]
  },
  {
   "cell_type": "markdown",
   "id": "8f2beebd",
   "metadata": {},
   "source": [
    "## Task 2\n",
    "Each of the following integers represents a single character in ASCII encoding. Convert them back! Do `integers -> string (through ASCII)`."
   ]
  },
  {
   "cell_type": "code",
   "execution_count": null,
   "id": "a21db506",
   "metadata": {},
   "outputs": [],
   "source": [
    "integers_blob = \"\"\"\n",
    "73 116 32 105 115 32 116 104 101 32 116 104 105 114\n",
    "100 32 119 101 101 107 32 97 110 100 32 73 32 115\n",
    "116 105 108 108 32 104 97 118 101 32 122 101 114\n",
    "111 32 105 100 101 97 32 97 98 111 117 116 32\n",
    "99 114 121 112 116 111 103 114 97 112 104 121\n",
    "\"\"\""
   ]
  },
  {
   "cell_type": "code",
   "execution_count": null,
   "id": "65fd5e96",
   "metadata": {},
   "outputs": [],
   "source": [
    "# FIXME REMOVE SOLUTION, DON'T LOOK"
   ]
  },
  {
   "cell_type": "code",
   "execution_count": null,
   "id": "53569a5f",
   "metadata": {},
   "outputs": [],
   "source": [
    "integers = [int(i) for i in integers_blob.strip().split()]\n",
    "bytes(integers).decode(\"ascii\")"
   ]
  },
  {
   "cell_type": "code",
   "execution_count": null,
   "id": "55ec9707",
   "metadata": {},
   "outputs": [],
   "source": [
    "# FIXME REMOVE REVERSED SOLUTION, DON'T LOOK\n",
    "msg = \"It is the third week and I still have zero idea about cryptography\"\n",
    "as_bytes = msg.encode(\"ascii\")\n",
    "\" \".join([str(i) for i in list(as_bytes)])"
   ]
  },
  {
   "cell_type": "markdown",
   "id": "4d088c71",
   "metadata": {},
   "source": [
    "## Task 3\n",
    "\n",
    "One of the tutors of PV080 got really confused with the encodings and made a mess.<br>\n",
    "He took a message and encoded in into ASCII.<br>\n",
    "He then looked at those bytes in hexadecimal. This reminded him of ASCII.<br>\n",
    "So he then turned those hexadecimal characters to ASCII, AGAIN!<br>\n",
    "Finally, he took those bytes and saw that there is another encoding called Base64. So he also used that one.<br>\n",
    "Ok, one more thing. He turned those bytes into an ASCII string.<br><br>\n",
    "\n",
    "Can you help the rest of the tutors to untangle this mess and find the original message? First have a look at the Base64 example below."
   ]
  },
  {
   "cell_type": "markdown",
   "id": "ce4ea11b",
   "metadata": {},
   "source": [
    "### A Base64 example"
   ]
  },
  {
   "cell_type": "code",
   "execution_count": null,
   "id": "cfbb055c",
   "metadata": {},
   "outputs": [],
   "source": [
    "# HINT: Do not worry about Base64. It is actually pretty simple.\n",
    "from base64 import b64decode, b64encode\n",
    "\n",
    "message = \"message\"\n",
    "# Encode the message into Base64 encoding\n",
    "# b64decode and b64encode operate on bytes\n",
    "b64_encoded_msg = b64encode(message.encode(\"ascii\"))\n",
    "\n",
    "# Decode the message back and then also into string\n",
    "original_message = b64decode(b64_encoded_msg).decode(\"ascii\")\n",
    "\n",
    "# Make sure we have gone full circle\n",
    "assert original_message == message"
   ]
  },
  {
   "cell_type": "markdown",
   "id": "1d38cf00",
   "metadata": {},
   "source": [
    "### The mess"
   ]
  },
  {
   "cell_type": "code",
   "execution_count": null,
   "id": "44016de6",
   "metadata": {},
   "outputs": [],
   "source": [
    "# TODO: Try to get to the original message\n",
    "blob = \"NTQ2ODY5NzMyMDZmNmUyMDY5NzMyMDY3NjU3NDc0Njk2ZTY3MjA2MTIwNjI2OTc0MjA2MzZmNmQ3MDZjNjk2MzYxNzQ2NTY0MmUyMDQ0NmYyMDZlNmY3NDIwNmY3NjY1NzI2NDZmMjA3NDY4NjUyMDY1NmU2MzZmNjQ2OTZlNjc3MzJlMmU=\"\n",
    "bytes2 = ____\n",
    "string2 = ____\n",
    "bytes1 = ____\n",
    "string1 = ____\n",
    "print(string1)"
   ]
  },
  {
   "cell_type": "code",
   "execution_count": null,
   "id": "c23be015",
   "metadata": {},
   "outputs": [],
   "source": [
    "# FIXME SOLUTION\n",
    "bytes.fromhex(b64decode(blob.encode()).decode()).decode()"
   ]
  },
  {
   "cell_type": "code",
   "execution_count": null,
   "id": "4db50265",
   "metadata": {},
   "outputs": [],
   "source": [
    "# FIXME CREATION\n",
    "msg = \"This on is getting a bit complicated. Do not overdo the encodings..\"\n",
    "msg_as_bytes = msg.encode(\"ascii\")\n",
    "bytes_as_hex = msg_as_bytes.hex()\n",
    "hex_as_ascii_as_bytes = bytes_as_hex.encode()\n",
    "b64encode(hex_as_ascii_as_bytes).decode()"
   ]
  }
 ],
 "metadata": {
  "kernelspec": {
   "display_name": "Python 3 (ipykernel)",
   "language": "python",
   "name": "python3"
  }
 },
 "nbformat": 4,
 "nbformat_minor": 5
}
